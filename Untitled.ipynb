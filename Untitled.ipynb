{
 "cells": [
  {
   "cell_type": "code",
   "execution_count": 214,
   "metadata": {},
   "outputs": [
    {
     "name": "stdout",
     "output_type": "stream",
     "text": [
      "[[-1 -1 -1 -1 -1 -1 -1 -1 -1 -1 -1 -1 -1 -1 -1 -1 -1]\n",
      " [-1  0  0  0  0  0  0  0  0  0  0  0  0  0  0  0 -1]\n",
      " [-1  0 -1  0 -1  0 -1  0 -1  0 -1  0 -1  0 -1  0 -1]\n",
      " [-1  0  0  0  0  0  0  0  0  0  0  0  0  0  0  0 -1]\n",
      " [-1  0 -1  0 -1  0 -1  0 -1  0 -1  0 -1  0 -1  0 -1]\n",
      " [-1  0  0  0  0  0  0  0  0  0  0  0  0  0  0  0 -1]\n",
      " [-1  0 -1  0 -1  0 -1  0 -1  0 -1  0 -1  0 -1  0 -1]\n",
      " [-1  0  0  0  0  0  0  0  0  0  0  0  0  0  0  0 -1]\n",
      " [-1  0 -1  0 -1  0 -1  0 -1  0 -1  0 -1  0 -1  0 -1]\n",
      " [-1  0  0  0  0  0  0  0  0  0  0  0  0  0  0  0 -1]\n",
      " [-1  0 -1  0 -1  0 -1  0 -1  0 -1  0 -1  0 -1  0 -1]\n",
      " [-1  0  0  0  0  0  0  0  0  0  0  0  0  0  0  0 -1]\n",
      " [-1  0 -1  0 -1  0 -1  0 -1  0 -1  0 -1  0 -1  0 -1]\n",
      " [-1  0  0  0  0  0  0  0  0  0  0  0  0  0  0  0 -1]\n",
      " [-1  0 -1  0 -1  0 -1  0 -1  0 -1  0 -1  0 -1  0 -1]\n",
      " [-1  0  0  0  0  0  0  0  0  0  0  0  0  0  0  0 -1]\n",
      " [-1 -1 -1 -1 -1 -1 -1 -1 -1 -1 -1 -1 -1 -1 -1 -1 -1]]\n",
      "(176, 176, 6)\n"
     ]
    }
   ],
   "source": [
    "import numpy as np\n",
    "# Arena with wall and crate layout\n",
    "cols = 17\n",
    "rows = 17\n",
    "crate_density = 0.0\n",
    "arena = (np.random.rand(cols, rows) < crate_density).astype(int)\n",
    "arena[:1, :] = -1\n",
    "arena[-1:,:] = -1\n",
    "arena[:, :1] = -1\n",
    "arena[:,-1:] = -1\n",
    "for x in range(cols):\n",
    "    for y in range(rows):\n",
    "        if (x+1)*(y+1) % 2 == 1:\n",
    "            arena[x,y] = -1\n",
    "print (arena)\n",
    "\n",
    "free_coordinates = np.where(arena == 0)\n",
    "# number of free cells\n",
    "n = free_coordinates[0].size\n",
    "# number of actions\n",
    "k = 6\n",
    "# definition of the matrix R\n",
    "R = np.zeros((n, n, k))\n",
    "\n",
    "print (R.shape)"
   ]
  },
  {
   "cell_type": "code",
   "execution_count": 217,
   "metadata": {},
   "outputs": [
    {
     "name": "stdout",
     "output_type": "stream",
     "text": [
      "[[0. 0. 0. 0. 0. 0. 0. 0. 0. 0. 0. 0. 0. 0. 0. 0. 0.]\n",
      " [0. 1. 0. 0. 0. 0. 0. 0. 0. 0. 0. 0. 0. 1. 0. 0. 0.]\n",
      " [0. 0. 0. 0. 0. 0. 0. 0. 0. 0. 0. 0. 0. 1. 0. 0. 0.]\n",
      " [0. 0. 0. 0. 0. 0. 0. 0. 0. 0. 0. 0. 0. 1. 0. 0. 0.]\n",
      " [0. 0. 0. 0. 0. 0. 0. 0. 0. 0. 0. 0. 0. 1. 0. 0. 0.]\n",
      " [0. 0. 0. 0. 0. 0. 0. 1. 0. 0. 0. 0. 0. 1. 0. 0. 0.]\n",
      " [0. 0. 0. 0. 0. 0. 0. 1. 0. 0. 0. 0. 0. 0. 0. 0. 0.]\n",
      " [0. 0. 0. 0. 0. 1. 1. 1. 1. 1. 0. 0. 0. 0. 0. 0. 0.]\n",
      " [0. 0. 0. 0. 0. 0. 0. 1. 0. 0. 0. 0. 0. 0. 0. 0. 0.]\n",
      " [0. 0. 0. 0. 0. 0. 0. 1. 0. 0. 0. 0. 0. 0. 0. 0. 0.]\n",
      " [0. 0. 0. 0. 0. 0. 0. 0. 0. 0. 0. 0. 0. 0. 0. 0. 0.]\n",
      " [0. 0. 0. 0. 0. 0. 0. 0. 0. 0. 0. 0. 0. 0. 0. 0. 0.]\n",
      " [0. 0. 0. 0. 0. 0. 0. 0. 0. 0. 0. 0. 0. 0. 0. 0. 0.]\n",
      " [0. 0. 0. 0. 0. 0. 0. 0. 0. 0. 0. 0. 0. 0. 0. 0. 0.]\n",
      " [0. 0. 0. 0. 0. 0. 0. 0. 0. 0. 0. 0. 0. 0. 0. 0. 0.]\n",
      " [0. 0. 0. 0. 0. 0. 0. 0. 0. 0. 0. 0. 0. 0. 0. 0. 0.]\n",
      " [0. 0. 0. 0. 0. 0. 0. 0. 0. 0. 0. 0. 0. 0. 0. 0. 0.]]\n"
     ]
    }
   ],
   "source": [
    "bombs = [(1,1,4),(2,13,1),(7,7,2)]  \n",
    "bomb_map = np.zeros(arena.shape)\n",
    "for (xb, yb, t) in bombs:            \n",
    "    vec_dir = [(0, -1), (0, 1), (-1, 0), (1, 0)]\n",
    "    for v in vec_dir:\n",
    "        hx, hy = v\n",
    "        for i in range(0, 4-t+1):\n",
    "            xcoord = xb + hx * i\n",
    "            ycoord = yb + hy * i\n",
    "            if ((0 < xcoord < arena.shape[0]) and\n",
    "                (0 < ycoord < arena.shape[1]) and\n",
    "                (arena[(xcoord, ycoord)] == 1 or arena[(xcoord, ycoord)] == 0)):\n",
    "                bomb_map[(xcoord, ycoord)] = 1\n",
    "            else:\n",
    "                break\n",
    "\n",
    "print (bomb_map)\n"
   ]
  },
  {
   "cell_type": "code",
   "execution_count": 13,
   "metadata": {},
   "outputs": [
    {
     "name": "stdout",
     "output_type": "stream",
     "text": [
      "5\n"
     ]
    }
   ],
   "source": [
    "a = 3\n",
    "b = 5\n",
    "print (np.max([a,b]))"
   ]
  },
  {
   "cell_type": "code",
   "execution_count": 22,
   "metadata": {},
   "outputs": [
    {
     "ename": "TypeError",
     "evalue": "'numpy.int64' object is not iterable",
     "output_type": "error",
     "traceback": [
      "\u001b[0;31m---------------------------------------------------------------------------\u001b[0m",
      "\u001b[0;31mTypeError\u001b[0m                                 Traceback (most recent call last)",
      "\u001b[0;32m<ipython-input-22-074c370cc99c>\u001b[0m in \u001b[0;36m<module>\u001b[0;34m\u001b[0m\n\u001b[1;32m      1\u001b[0m \u001b[0ma\u001b[0m \u001b[0;34m=\u001b[0m \u001b[0mnp\u001b[0m\u001b[0;34m.\u001b[0m\u001b[0mzeros\u001b[0m\u001b[0;34m(\u001b[0m\u001b[0;34m(\u001b[0m\u001b[0;36m2\u001b[0m\u001b[0;34m,\u001b[0m\u001b[0;36m2\u001b[0m\u001b[0;34m,\u001b[0m\u001b[0;36m2\u001b[0m\u001b[0;34m,\u001b[0m\u001b[0;36m2\u001b[0m\u001b[0;34m)\u001b[0m\u001b[0;34m)\u001b[0m\u001b[0;34m\u001b[0m\u001b[0;34m\u001b[0m\u001b[0m\n\u001b[0;32m----> 2\u001b[0;31m \u001b[0mq\u001b[0m\u001b[0;34m,\u001b[0m \u001b[0mw\u001b[0m\u001b[0;34m,\u001b[0m \u001b[0me\u001b[0m\u001b[0;34m,\u001b[0m \u001b[0mr\u001b[0m \u001b[0;34m=\u001b[0m \u001b[0mnp\u001b[0m\u001b[0;34m.\u001b[0m\u001b[0margmax\u001b[0m\u001b[0;34m(\u001b[0m\u001b[0ma\u001b[0m\u001b[0;34m)\u001b[0m\u001b[0;34m\u001b[0m\u001b[0;34m\u001b[0m\u001b[0m\n\u001b[0m\u001b[1;32m      3\u001b[0m \u001b[0;34m\u001b[0m\u001b[0m\n\u001b[1;32m      4\u001b[0m \u001b[0mprint\u001b[0m \u001b[0;34m(\u001b[0m\u001b[0mq\u001b[0m\u001b[0;34m)\u001b[0m\u001b[0;34m\u001b[0m\u001b[0;34m\u001b[0m\u001b[0m\n",
      "\u001b[0;31mTypeError\u001b[0m: 'numpy.int64' object is not iterable"
     ]
    }
   ],
   "source": [
    "a = np.zeros((2,2,2,2))\n",
    "q, w, e, r = np.argmax(a)\n",
    "\n",
    "print (q)"
   ]
  },
  {
   "cell_type": "code",
   "execution_count": 23,
   "metadata": {},
   "outputs": [
    {
     "name": "stdout",
     "output_type": "stream",
     "text": [
      "[0, 1, 1, 2, 2, 3, 3, 4, 4, 5]\n"
     ]
    }
   ],
   "source": [
    "a = []\n",
    "\n",
    "for i in range (5):\n",
    "    a = a + [i,i+1]\n",
    "print (a)"
   ]
  },
  {
   "cell_type": "code",
   "execution_count": 32,
   "metadata": {},
   "outputs": [
    {
     "name": "stdout",
     "output_type": "stream",
     "text": [
      "3\n"
     ]
    }
   ],
   "source": [
    "print (np.random.randint(5))"
   ]
  },
  {
   "cell_type": "code",
   "execution_count": 40,
   "metadata": {},
   "outputs": [
    {
     "name": "stdout",
     "output_type": "stream",
     "text": [
      "2\n",
      "8\n",
      "4\n",
      "6\n"
     ]
    }
   ],
   "source": [
    "a = np.array([[1,2,3],[4,5,6],[7,8,9]])\n",
    "\n",
    "print (a[0,1])\n",
    "print (a[2,1])\n",
    "print (a[1,0])\n",
    "print (a[1,2])"
   ]
  },
  {
   "cell_type": "code",
   "execution_count": 56,
   "metadata": {},
   "outputs": [
    {
     "name": "stdout",
     "output_type": "stream",
     "text": [
      "[(6, (1, 2, 3)), (5, (1, 2, 3)), (4, (1, 2, 3))]\n",
      "[(6, (1, 2, 3)), (5, (1, 2, 3)), (4, (1, 2, 3))]\n",
      "6\n",
      "(1, 2, 3)\n",
      "3\n",
      "3\n"
     ]
    }
   ],
   "source": [
    "w = [6,5,4]\n",
    "x = [(1,2,3), (1,2,3), (1,2,3)]\n",
    "zipped = list(zip(w, x))\n",
    "print (zipped)\n",
    "zipped.sort(reverse=True)\n",
    "print (zipped)\n",
    "a, b = zipped[0]\n",
    "_, _, d = b\n",
    "print (a)\n",
    "print (b)\n",
    "print (d)\n",
    "c = 0\n",
    "for i in range(10):\n",
    "    c = c+1\n",
    "    if (i==2):\n",
    "        break\n",
    "print (c)"
   ]
  },
  {
   "cell_type": "code",
   "execution_count": 209,
   "metadata": {},
   "outputs": [
    {
     "name": "stdout",
     "output_type": "stream",
     "text": [
      "hola\n",
      "1\n",
      "2\n",
      "3\n",
      "(1, 1)\n",
      "4\n",
      "6\n",
      "(0, 1)\n"
     ]
    }
   ],
   "source": [
    "l = [1,2,3]\n",
    "g = [4]\n",
    "mapa = {}\n",
    "mapa[(1,1)] = l\n",
    "mapa[(0,1)] = g\n",
    "\n",
    "if 5 in l:\n",
    "    print (\"HEY\")\n",
    "if not (0,0) in mapa:\n",
    "    print (\"hola\")\n",
    "mapa[(0,1)].append(6)\n",
    "for key, value in mapa.items():\n",
    "    for a in value:\n",
    "        print (a)\n",
    "    print (key)\n"
   ]
  },
  {
   "cell_type": "code",
   "execution_count": 213,
   "metadata": {},
   "outputs": [
    {
     "name": "stdout",
     "output_type": "stream",
     "text": [
      "[0. 0. 0. 0.]\n",
      "[0. 0. 0. 0. 0. 0. 0. 0. 0. 0. 1. 1. 1. 1. 0.]\n"
     ]
    }
   ],
   "source": [
    "state = np.zeros(15)\n",
    "a = np.ones(4)\n",
    "print (state[10:14])\n",
    "state[10:14] = a\n",
    "print (state)"
   ]
  },
  {
   "cell_type": "code",
   "execution_count": 219,
   "metadata": {},
   "outputs": [
    {
     "name": "stdout",
     "output_type": "stream",
     "text": [
      "[[False False  True]\n",
      " [False False  True]\n",
      " [False False  True]\n",
      " [False False  True]]\n"
     ]
    }
   ],
   "source": [
    "mat = np.array([[1,2,3],[1,2,3],[1,2,3],[1,2,3]])\n",
    "free_space = mat == 3\n",
    "print (free_space)"
   ]
  },
  {
   "cell_type": "code",
   "execution_count": null,
   "metadata": {},
   "outputs": [],
   "source": []
  }
 ],
 "metadata": {
  "kernelspec": {
   "display_name": "Python 3",
   "language": "python",
   "name": "python3"
  },
  "language_info": {
   "codemirror_mode": {
    "name": "ipython",
    "version": 3
   },
   "file_extension": ".py",
   "mimetype": "text/x-python",
   "name": "python",
   "nbconvert_exporter": "python",
   "pygments_lexer": "ipython3",
   "version": "3.6.7"
  }
 },
 "nbformat": 4,
 "nbformat_minor": 2
}
